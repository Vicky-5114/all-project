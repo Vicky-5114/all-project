{
 "cells": [
  {
   "cell_type": "markdown",
   "metadata": {},
   "source": [
    "# DTS103TC Design and Analysis of Algorithms - Lab 1\n",
    "## Function growth, mathematical induction and sorting algorithms"
   ]
  },
  {
   "cell_type": "markdown",
   "metadata": {},
   "source": [
    "1. Hierarchy of Functions and Order of Magnitude Computations\n",
    "2. Practice Induction\n",
    "3. Search Algorithm implementations\n",
    "4. Sorting algorithms (and complexity analysis)"
   ]
  },
  {
   "cell_type": "markdown",
   "metadata": {},
   "source": [
    "# Exercise 1: Hierarchy of Functions and Order of Magnitude Computations"
   ]
  },
  {
   "cell_type": "markdown",
   "metadata": {},
   "source": [
    "This exercise aims to understand the growth rates of different functions as they approach infinity\n",
    "and how to use Big O.\n",
    "\n",
    "1. Rank the following functions by order of growth (from slowest to fastest):\n",
    "    - f (n) = n^2 ,\n",
    "    - f (n) = n log n,\n",
    "    - f (n) = 2^n ,\n",
    "    - f (n) = log n,\n",
    "\n",
    "2. Plot each function using Matplotlib to visualize their growth rates.\n",
    "\n",
    "3. Calculate the Big O notation for the following functions:\n",
    "    - (a) f (n) = 5n^3 + 2n^2 + 10n + 7\n",
    "    - (b) f (n) = 3n log n + 4n + 8\n",
    "    - (c) f (n) = 2^{n+1} + 3n^5"
   ]
  },
  {
   "cell_type": "markdown",
   "metadata": {},
   "source": [
    "## Answer 1"
   ]
  },
  {
   "cell_type": "markdown",
   "metadata": {},
   "source": [
    "## Answer\n",
    "\n",
    "1.\n",
    "    - The order of growth from slowest to fastest is: log n < n log n < n^2 < 2^n < n!\n",
    "\n"
   ]
  },
  {
   "cell_type": "markdown",
   "metadata": {},
   "source": [
    "2. Function plots"
   ]
  },
  {
   "cell_type": "code",
   "execution_count": null,
   "metadata": {},
   "outputs": [],
   "source": [
    "import matplotlib.pyplot as plt\n",
    "import numpy as np\n",
    "import math\n",
    "\n",
    "# Define the range of n\n",
    "n = np.arange(1, 20, 0.1)\n",
    "\n",
    "# Define the functions\n",
    "log_n = np.log(n)\n",
    "n_log_n = n * np.log(n)\n",
    "n_squared = n ** 2\n",
    "two_pow_n = 2 ** n\n",
    "n_factorial = [math.factorial(int(i)) for i in n]\n",
    "\n",
    "# Plot each function\n",
    "plt.figure(figsize=(10, 6))\n",
    "plt.plot(n, log_n, label='$\\log n$')\n",
    "plt.plot(n, n_log_n, label='$n \\log n$')\n",
    "plt.plot(n, n_squared, label='$n^2$')\n",
    "plt.plot(n, two_pow_n, label='$2^n$')\n",
    "plt.plot(n, n_factorial, label='$n!$')\n",
    "\n",
    "# Add labels and legend\n",
    "plt.xlabel('n')\n",
    "plt.ylabel('f(n)')\n",
    "plt.title('Growth Rates of Functions')\n",
    "plt.legend()\n",
    "plt.yscale('log')  # Use log scale for better visualization\n",
    "plt.grid(True)\n",
    "plt.show()"
   ]
  },
  {
   "cell_type": "markdown",
   "metadata": {},
   "source": [
    "3.\n",
    "    - The dominant term is 5n3 , so the Big O notation is: O(n^3)\n",
    "    - The dominant term is 3n log n, so the Big O notation is: O(n log n)\n",
    "    - The dominant term is 2^{n+1} , so the Big O notation is: O(2^{n+1})"
   ]
  },
  {
   "cell_type": "markdown",
   "metadata": {},
   "source": [
    "# Exercise 2: Practice Induction"
   ]
  },
  {
   "cell_type": "markdown",
   "metadata": {},
   "source": [
    "Prove by mathematical induction that 1 + 2 + ... + n = n(n+1)/2"
   ]
  },
  {
   "cell_type": "markdown",
   "metadata": {},
   "source": [
    "## Answer"
   ]
  },
  {
   "cell_type": "markdown",
   "metadata": {},
   "source": [
    "### Base Case (n = 1):\n",
    "1= 1(1 + 1) / 2\n",
    "\n",
    "The formula holds for n = 1.\n",
    "\n",
    "### Inductive Step: Assume the formula holds for n = k, i.e.,\n",
    "1 + 2 + ... + k = k(k + 1)/2\n",
    "\n",
    "\n",
    "Now, prove it for n = k + 1:\n",
    "\n",
    "1 + 2 + . . . + k + (k + 1) = k(k + 1)/2 + k + 1 = (k(k + 1) + 2(k + 1))/2 = (k + 1)(k + 2)/2\n",
    "\n",
    "Thus, the formula holds for n = k + 1.\n",
    "By induction, the formula is true for all n ∈ N."
   ]
  },
  {
   "cell_type": "markdown",
   "metadata": {},
   "source": [
    "# Exercise 3:  Search Algorithm implementations"
   ]
  },
  {
   "cell_type": "markdown",
   "metadata": {},
   "source": [
    "This exercise demonstrates the importance of complexity analysis when improving algorithms. Implement the trivialSearch and binarySearch functions in Python."
   ]
  },
  {
   "cell_type": "markdown",
   "metadata": {},
   "source": [
    "## Answer"
   ]
  },
  {
   "cell_type": "code",
   "execution_count": 5,
   "metadata": {},
   "outputs": [
    {
     "name": "stdout",
     "output_type": "stream",
     "text": [
      "Trivial Search: 1\n"
     ]
    }
   ],
   "source": [
    "def trivial_search(arr, target):\n",
    "    for i in range(len(arr)):\n",
    "        if arr[i] == target:\n",
    "            return i\n",
    "    return -1\n",
    "\n",
    "array = [1, 3, 5, 7, 9]\n",
    "target = 3\n",
    "result = trivial_search(array, target)\n",
    "print(f\"Trivial Search: {result}\")"
   ]
  },
  {
   "cell_type": "markdown",
   "metadata": {},
   "source": [
    "- Time Complexity: O(n) (linear search).\n",
    "- Space Complexity: O(1)."
   ]
  },
  {
   "cell_type": "code",
   "execution_count": 4,
   "metadata": {},
   "outputs": [
    {
     "name": "stdout",
     "output_type": "stream",
     "text": [
      "binary search: 1\n"
     ]
    }
   ],
   "source": [
    "def binary_search(arr, target):\n",
    "    left, right = 0, len(arr) - 1\n",
    "    while left <= right:\n",
    "        mid = (left + right) // 2\n",
    "        if arr[mid] == target:\n",
    "            return mid\n",
    "        elif arr[mid] < target:\n",
    "            left = mid + 1\n",
    "        else:\n",
    "            right = mid - 1\n",
    "    return -1\n",
    "\n",
    "array = [1, 3, 5, 7, 9]\n",
    "target = 3\n",
    "result = trivial_search(array, target)\n",
    "print(f\"binary search: {result}\")"
   ]
  },
  {
   "cell_type": "markdown",
   "metadata": {},
   "source": [
    "- Time Complexity: O(log n) (requires a sorted array).\n",
    "- Space Complexity: O(1)."
   ]
  },
  {
   "cell_type": "markdown",
   "metadata": {},
   "source": [
    "# Exercise 4: Sorting algorithms (and complexity analysis)"
   ]
  },
  {
   "cell_type": "markdown",
   "metadata": {},
   "source": [
    "Using pseudocode or Python, describe the insertion and selection sorting algorithms. Provide their\n",
    "time and space complexities."
   ]
  },
  {
   "cell_type": "markdown",
   "metadata": {},
   "source": [
    "## Answer"
   ]
  },
  {
   "cell_type": "code",
   "execution_count": 6,
   "metadata": {},
   "outputs": [
    {
     "name": "stdout",
     "output_type": "stream",
     "text": [
      "insertion sort: [5, 6, 11, 12, 13]\n"
     ]
    }
   ],
   "source": [
    "### Insertion Sort:\n",
    "\n",
    "def insertion_sort(arr):\n",
    "    for i in range(1, len(arr)):\n",
    "        key = arr[i]\n",
    "        j = i - 1\n",
    "        while j >= 0 and key < arr[j]:\n",
    "            arr[j + 1] = arr[j]\n",
    "            j -= 1\n",
    "        arr[j + 1] = key\n",
    "    return arr\n",
    "\n",
    "array = [12, 11, 13, 5, 6]\n",
    "result = insertion_sort(array)\n",
    "print(f\"insertion sort: {result}\")"
   ]
  },
  {
   "cell_type": "code",
   "execution_count": 7,
   "metadata": {},
   "outputs": [
    {
     "name": "stdout",
     "output_type": "stream",
     "text": [
      "selection sort: [11, 12, 22, 25, 64]\n"
     ]
    }
   ],
   "source": [
    "### Selestion sort:\n",
    "\n",
    "def selection_sort(arr):\n",
    "    for i in range(len(arr)):\n",
    "        min_idx = i\n",
    "        for j in range(i + 1, len(arr)):\n",
    "            if arr[j] < arr[min_idx]:\n",
    "                min_idx = j\n",
    "        arr[i], arr[min_idx] = arr[min_idx], arr[i]\n",
    "    return arr\n",
    "\n",
    "array = [64, 25, 12, 22, 11]\n",
    "result = selection_sort(array)\n",
    "print(f\"selection sort: {result}\")"
   ]
  },
  {
   "cell_type": "markdown",
   "metadata": {},
   "source": [
    "- Time Complexity:\n",
    "    - Insertion Sort: O(n^2 ) (worst and average cases), O(n) (best case).\n",
    "    - Selection Sort: O(n^2 ) (all cases).\n",
    "- Space Complexity:\n",
    "    - Both algorithms: O(1) (in-place sorting)."
   ]
  }
 ],
 "metadata": {
  "kernelspec": {
   "display_name": "py3.10",
   "language": "python",
   "name": "python3"
  },
  "language_info": {
   "codemirror_mode": {
    "name": "ipython",
    "version": 3
   },
   "file_extension": ".py",
   "mimetype": "text/x-python",
   "name": "python",
   "nbconvert_exporter": "python",
   "pygments_lexer": "ipython3",
   "version": "3.10.9"
  }
 },
 "nbformat": 4,
 "nbformat_minor": 2
}
