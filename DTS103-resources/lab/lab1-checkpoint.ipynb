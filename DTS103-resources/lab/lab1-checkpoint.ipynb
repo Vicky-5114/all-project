{
 "cells": [
  {
   "cell_type": "markdown",
   "metadata": {},
   "source": [
    "# DTS103TC Design and Analysis of Algorithms - Lab 1\n",
    "## Function growth, mathematical induction and sorting algorithms"
   ]
  },
  {
   "cell_type": "markdown",
   "metadata": {},
   "source": [
    "# Summary"
   ]
  },
  {
   "cell_type": "markdown",
   "metadata": {},
   "source": [
    "1. Hierarchy of Functions and Order of Magnitude Computations\n",
    "2. Practice Induction\n",
    "3. Search Algorithm implementations\n",
    "4. Sorting algorithms (and complexity analysis)"
   ]
  },
  {
   "cell_type": "markdown",
   "metadata": {},
   "source": [
    "# Exercise 1: Hierarchy of Functions and Order of Magnitude Computations"
   ]
  },
  {
   "cell_type": "markdown",
   "metadata": {},
   "source": [
    "This exercise aims to understand the growth rates of different functions as they approach infinity\n",
    "and how to use Big O.\n",
    "\n",
    "1. Rank the following functions by order of growth (from slowest to fastest):\n",
    "    - f (n) = n^2 ,\n",
    "    - f (n) = n log n,\n",
    "    - f (n) = 2^n ,\n",
    "    - f (n) = log n,\n",
    "2. Plot each function using Matplotlib to visualize their growth rates.\n",
    "\n",
    "3. Calculate the Big O notation for the following functions:\n",
    "    - (a) f (n) = 5n^3 + 2n^2 + 10n + 7\n",
    "    - (b) f (n) = 3n log n + 4n + 8\n",
    "    - (c) f (n) = 2^{n+1} + 3n^5"
   ]
  },
  {
   "metadata": {},
   "cell_type": "markdown",
   "source": [
    "    1. 函数增长率排序： \n",
    "    从慢到快依次为： \n",
    "    f(n) = logn → f(n) = n logn → f(n) = n² → f(n) = 2ⁿ"
   ]
  },
  {
   "metadata": {},
   "cell_type": "code",
   "outputs": [],
   "execution_count": null,
   "source": [
    "import matplotlib.pyplot as plt\n",
    "import numpy as np\n",
    "\n",
    "n = np.linspace(1, 10, 400)  \n",
    "plt.figure(figsize=(10,6))\n",
    "\n",
    "plt.plot(n, np.log(n), label='log(n)')\n",
    "plt.plot(n, n*np.log(n), label='n log(n)')\n",
    "plt.plot(n, n**2, label='n²')\n",
    "plt.plot(n, 2**n, label='2ⁿ')\n",
    "\n",
    "plt.legend()\n",
    "plt.ylim(0, 100)  # 限制y轴范围以便观察\n",
    "plt.xlabel('n')\n",
    "plt.ylabel('f(n)')\n",
    "plt.show()"
   ]
  },
  {
   "metadata": {},
   "cell_type": "markdown",
   "source": [
    "        1. 创建x轴的数据点，选择范围1-10，等距生成400个点\n",
    "        2. 创建画布并设置尺寸，注意控制一下比列就好：宽10inch， 高6inch\n",
    "        3. 将各个function的参数录入，第一个参数n是x轴数据， 第二个参数是y轴数据表计算结果（label用于图例显示）\n",
    "        4. 显示图例（曲线label）\n",
    "        5. 注意限制y轴的显示范围（因为指数爆炸式增长）"
   ]
  },
  {
   "metadata": {},
   "cell_type": "markdown",
   "source": "    Big O计算： (a) O(n³) (b) O(n logn) (c) O(2ⁿ)"
  },
  {
   "metadata": {},
   "cell_type": "markdown",
   "source": "# Exercise 2: Practice Induction"
  },
  {
   "cell_type": "markdown",
   "metadata": {},
   "source": [
    "Prove by mathematical induction that 1 + 2 + ... + n = n(n+1)/2\n",
    "\n",
    "answer：\n",
    "\n",
    "if n=1:  L = 1，R = 1×(1+1)/2 = 1, right  \n",
    "if n=k:  1+2+...+k = k(k+1)/2, right  \n",
    "if n=k+1:L= 1+2+...+k+(k+1) = [k(k+1)/2] (k+1) = (k²+k 2k+2)/2 = (k²+3k+2)/2 = (k+1)(k+2)/2 = R \n",
    "\n",
    "so the proposition is ture."
   ]
  },
  {
   "cell_type": "markdown",
   "metadata": {},
   "source": [
    "# Exercise 3:  Search Algorithm implementations"
   ]
  },
  {
   "cell_type": "markdown",
   "metadata": {},
   "source": [
    "This exercise demonstrates the importance of complexity analysis when improving algorithms. Implement the trivialSearch and binarySearch functions in Python."
   ]
  },
  {
   "metadata": {},
   "cell_type": "code",
   "outputs": [],
   "execution_count": null,
   "source": [
    "def trivialSearch(arr, target):\n",
    "    for i in range(len(arr)):\n",
    "        if arr[i] == target:\n",
    "            return True\n",
    "    return False"
   ]
  },
  {
   "metadata": {},
   "cell_type": "code",
   "outputs": [],
   "execution_count": null,
   "source": [
    "def binarySearch(arr, target):\n",
    "    left, right = 0, len(arr)-1\n",
    "    while left <= right:\n",
    "        mid = (left + right) // 2\n",
    "        if arr[mid] == target:\n",
    "            return True\n",
    "        elif arr[mid] < target:\n",
    "            left = mid + 1\n",
    "        else:\n",
    "            right = mid - 1\n",
    "    return False"
   ]
  },
  {
   "cell_type": "markdown",
   "metadata": {},
   "source": [
    "# Exercise 4: Sorting algorithms (and complexity analysis)"
   ]
  },
  {
   "cell_type": "markdown",
   "metadata": {},
   "source": [
    "Using Python, implement the insertion and selection sorting algorithms. Provide their\n",
    "time and space complexities."
   ]
  },
  {
   "metadata": {},
   "cell_type": "code",
   "outputs": [],
   "execution_count": null,
   "source": [
    "def insertionSort(arr):\n",
    "    for i in range(1, len(arr)):\n",
    "        key = arr[i]\n",
    "        j = i-1\n",
    "        while j >=0 and key < arr[j]:\n",
    "            arr[j+1] = arr[j]\n",
    "            j -= 1\n",
    "        arr[j+1] = key\n",
    "    return arr"
   ]
  },
  {
   "metadata": {},
   "cell_type": "code",
   "outputs": [],
   "execution_count": null,
   "source": [
    "def selectionSort(arr):\n",
    "    for i in range(len(arr)):\n",
    "        min_idx = i\n",
    "        for j in range(i+1, len(arr)):\n",
    "            if arr[j] < arr[min_idx]:\n",
    "                min_idx = j\n",
    "        arr[i], arr[min_idx] = arr[min_idx], arr[i]\n",
    "    return arr"
   ]
  }
 ],
 "metadata": {
  "kernelspec": {
   "display_name": "Python 3",
   "language": "python",
   "name": "python3"
  },
  "language_info": {
   "codemirror_mode": {
    "name": "ipython",
    "version": 3
   },
   "file_extension": ".py",
   "mimetype": "text/x-python",
   "name": "python",
   "nbconvert_exporter": "python",
   "pygments_lexer": "ipython3",
   "version": "3.6.13"
  }
 },
 "nbformat": 4,
 "nbformat_minor": 2
}
