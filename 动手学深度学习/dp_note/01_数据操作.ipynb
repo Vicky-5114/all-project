{
 "cells": [
  {
   "cell_type": "code",
   "execution_count": null,
   "id": "initial_id",
   "metadata": {
    "collapsed": true
   },
   "outputs": [],
   "source": [
    ""
   ]
  },
  {
   "metadata": {},
   "cell_type": "markdown",
   "source": "0-d(标量)， 1-d(向量)， 2-d(矩阵：每一行是一个样本，每一列对应不同的特征) ",
   "id": "899856d2cd55ec67"
  },
  {
   "metadata": {},
   "cell_type": "markdown",
   "source": "",
   "id": "d9d4273fa9d0c3a2"
  }
 ],
 "metadata": {
  "kernelspec": {
   "display_name": "Python 3",
   "language": "python",
   "name": "python3"
  },
  "language_info": {
   "codemirror_mode": {
    "name": "ipython",
    "version": 2
   },
   "file_extension": ".py",
   "mimetype": "text/x-python",
   "name": "python",
   "nbconvert_exporter": "python",
   "pygments_lexer": "ipython2",
   "version": "2.7.6"
  }
 },
 "nbformat": 4,
 "nbformat_minor": 5
}
